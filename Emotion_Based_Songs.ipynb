{
  "cells": [
    {
      "cell_type": "markdown",
      "metadata": {
        "id": "view-in-github",
        "colab_type": "text"
      },
      "source": [
        "<a href=\"https://colab.research.google.com/github/Udana-Gits/My_AI_Learnings/blob/main/Emotion_Based_Songs.ipynb\" target=\"_parent\"><img src=\"https://colab.research.google.com/assets/colab-badge.svg\" alt=\"Open In Colab\"/></a>"
      ]
    },
    {
      "cell_type": "code",
      "execution_count": null,
      "id": "85fd878e-7ed6-449d-9c44-93310c2a5904",
      "metadata": {
        "id": "85fd878e-7ed6-449d-9c44-93310c2a5904",
        "outputId": "d2c95697-6082-4759-805c-29d3160e3749"
      },
      "outputs": [
        {
          "name": "stdout",
          "output_type": "stream",
          "text": [
            "Requirement already satisfied: opencv-python in e:\\python\\lib\\site-packages (4.10.0.84)\n",
            "Requirement already satisfied: deepface in e:\\python\\lib\\site-packages (0.0.93)\n",
            "Collecting youtube-search-python\n",
            "  Downloading youtube_search_python-1.6.6-py3-none-any.whl.metadata (99 kB)\n",
            "Requirement already satisfied: numpy>=1.21.2 in e:\\python\\lib\\site-packages (from opencv-python) (1.26.4)\n",
            "Requirement already satisfied: requests>=2.27.1 in e:\\python\\lib\\site-packages (from deepface) (2.32.2)\n",
            "Requirement already satisfied: pandas>=0.23.4 in e:\\python\\lib\\site-packages (from deepface) (2.2.2)\n",
            "Requirement already satisfied: gdown>=3.10.1 in e:\\python\\lib\\site-packages (from deepface) (5.2.0)\n",
            "Requirement already satisfied: tqdm>=4.30.0 in e:\\python\\lib\\site-packages (from deepface) (4.66.4)\n",
            "Requirement already satisfied: Pillow>=5.2.0 in e:\\python\\lib\\site-packages (from deepface) (10.3.0)\n",
            "Requirement already satisfied: tensorflow>=1.9.0 in e:\\python\\lib\\site-packages (from deepface) (2.18.0)\n",
            "Requirement already satisfied: keras>=2.2.0 in e:\\python\\lib\\site-packages (from deepface) (3.5.0)\n",
            "Requirement already satisfied: Flask>=1.1.2 in e:\\python\\lib\\site-packages (from deepface) (3.1.0)\n",
            "Requirement already satisfied: flask-cors>=4.0.1 in e:\\python\\lib\\site-packages (from deepface) (5.0.0)\n",
            "Requirement already satisfied: mtcnn>=0.1.0 in e:\\python\\lib\\site-packages (from deepface) (1.0.0)\n",
            "Requirement already satisfied: retina-face>=0.0.1 in e:\\python\\lib\\site-packages (from deepface) (0.0.17)\n",
            "Requirement already satisfied: fire>=0.4.0 in e:\\python\\lib\\site-packages (from deepface) (0.7.0)\n",
            "Requirement already satisfied: gunicorn>=20.1.0 in e:\\python\\lib\\site-packages (from deepface) (23.0.0)\n",
            "Requirement already satisfied: httpx>=0.14.2 in e:\\python\\lib\\site-packages (from youtube-search-python) (0.27.0)\n",
            "Requirement already satisfied: termcolor in e:\\python\\lib\\site-packages (from fire>=0.4.0->deepface) (2.4.0)\n",
            "Requirement already satisfied: Werkzeug>=3.1 in e:\\python\\lib\\site-packages (from Flask>=1.1.2->deepface) (3.1.3)\n",
            "Requirement already satisfied: Jinja2>=3.1.2 in e:\\python\\lib\\site-packages (from Flask>=1.1.2->deepface) (3.1.4)\n",
            "Requirement already satisfied: itsdangerous>=2.2 in e:\\python\\lib\\site-packages (from Flask>=1.1.2->deepface) (2.2.0)\n",
            "Requirement already satisfied: click>=8.1.3 in e:\\python\\lib\\site-packages (from Flask>=1.1.2->deepface) (8.1.7)\n",
            "Requirement already satisfied: blinker>=1.9 in e:\\python\\lib\\site-packages (from Flask>=1.1.2->deepface) (1.9.0)\n",
            "Requirement already satisfied: beautifulsoup4 in e:\\python\\lib\\site-packages (from gdown>=3.10.1->deepface) (4.12.3)\n",
            "Requirement already satisfied: filelock in e:\\python\\lib\\site-packages (from gdown>=3.10.1->deepface) (3.13.1)\n",
            "Requirement already satisfied: packaging in e:\\python\\lib\\site-packages (from gunicorn>=20.1.0->deepface) (23.2)\n",
            "Requirement already satisfied: anyio in e:\\python\\lib\\site-packages (from httpx>=0.14.2->youtube-search-python) (4.2.0)\n",
            "Requirement already satisfied: certifi in e:\\python\\lib\\site-packages (from httpx>=0.14.2->youtube-search-python) (2024.7.4)\n",
            "Requirement already satisfied: httpcore==1.* in e:\\python\\lib\\site-packages (from httpx>=0.14.2->youtube-search-python) (1.0.2)\n",
            "Requirement already satisfied: idna in e:\\python\\lib\\site-packages (from httpx>=0.14.2->youtube-search-python) (3.7)\n",
            "Requirement already satisfied: sniffio in e:\\python\\lib\\site-packages (from httpx>=0.14.2->youtube-search-python) (1.3.0)\n",
            "Requirement already satisfied: h11<0.15,>=0.13 in e:\\python\\lib\\site-packages (from httpcore==1.*->httpx>=0.14.2->youtube-search-python) (0.14.0)\n",
            "Requirement already satisfied: absl-py in e:\\python\\lib\\site-packages (from keras>=2.2.0->deepface) (2.1.0)\n",
            "Requirement already satisfied: rich in e:\\python\\lib\\site-packages (from keras>=2.2.0->deepface) (13.3.5)\n",
            "Requirement already satisfied: namex in e:\\python\\lib\\site-packages (from keras>=2.2.0->deepface) (0.0.8)\n",
            "Requirement already satisfied: h5py in e:\\python\\lib\\site-packages (from keras>=2.2.0->deepface) (3.11.0)\n",
            "Requirement already satisfied: optree in e:\\python\\lib\\site-packages (from keras>=2.2.0->deepface) (0.12.1)\n",
            "Requirement already satisfied: ml-dtypes in e:\\python\\lib\\site-packages (from keras>=2.2.0->deepface) (0.4.0)\n",
            "Requirement already satisfied: joblib>=1.4.2 in e:\\python\\lib\\site-packages (from mtcnn>=0.1.0->deepface) (1.4.2)\n",
            "Requirement already satisfied: lz4>=4.3.3 in e:\\python\\lib\\site-packages (from mtcnn>=0.1.0->deepface) (4.4.3)\n",
            "Requirement already satisfied: python-dateutil>=2.8.2 in e:\\python\\lib\\site-packages (from pandas>=0.23.4->deepface) (2.9.0.post0)\n",
            "Requirement already satisfied: pytz>=2020.1 in e:\\python\\lib\\site-packages (from pandas>=0.23.4->deepface) (2024.1)\n",
            "Requirement already satisfied: tzdata>=2022.7 in e:\\python\\lib\\site-packages (from pandas>=0.23.4->deepface) (2023.3)\n",
            "Requirement already satisfied: charset-normalizer<4,>=2 in e:\\python\\lib\\site-packages (from requests>=2.27.1->deepface) (2.0.4)\n",
            "Requirement already satisfied: urllib3<3,>=1.21.1 in e:\\python\\lib\\site-packages (from requests>=2.27.1->deepface) (2.2.2)\n",
            "Requirement already satisfied: tensorflow-intel==2.18.0 in e:\\python\\lib\\site-packages (from tensorflow>=1.9.0->deepface) (2.18.0)\n",
            "Requirement already satisfied: astunparse>=1.6.0 in e:\\python\\lib\\site-packages (from tensorflow-intel==2.18.0->tensorflow>=1.9.0->deepface) (1.6.3)\n",
            "Requirement already satisfied: flatbuffers>=24.3.25 in e:\\python\\lib\\site-packages (from tensorflow-intel==2.18.0->tensorflow>=1.9.0->deepface) (24.3.25)\n",
            "Requirement already satisfied: gast!=0.5.0,!=0.5.1,!=0.5.2,>=0.2.1 in e:\\python\\lib\\site-packages (from tensorflow-intel==2.18.0->tensorflow>=1.9.0->deepface) (0.6.0)\n",
            "Requirement already satisfied: google-pasta>=0.1.1 in e:\\python\\lib\\site-packages (from tensorflow-intel==2.18.0->tensorflow>=1.9.0->deepface) (0.2.0)\n",
            "Requirement already satisfied: libclang>=13.0.0 in e:\\python\\lib\\site-packages (from tensorflow-intel==2.18.0->tensorflow>=1.9.0->deepface) (18.1.1)\n",
            "Requirement already satisfied: opt-einsum>=2.3.2 in e:\\python\\lib\\site-packages (from tensorflow-intel==2.18.0->tensorflow>=1.9.0->deepface) (3.3.0)\n",
            "Requirement already satisfied: protobuf!=4.21.0,!=4.21.1,!=4.21.2,!=4.21.3,!=4.21.4,!=4.21.5,<6.0.0dev,>=3.20.3 in e:\\python\\lib\\site-packages (from tensorflow-intel==2.18.0->tensorflow>=1.9.0->deepface) (4.25.4)\n",
            "Requirement already satisfied: setuptools in e:\\python\\lib\\site-packages (from tensorflow-intel==2.18.0->tensorflow>=1.9.0->deepface) (75.1.0)\n",
            "Requirement already satisfied: six>=1.12.0 in e:\\python\\lib\\site-packages (from tensorflow-intel==2.18.0->tensorflow>=1.9.0->deepface) (1.16.0)\n",
            "Requirement already satisfied: typing-extensions>=3.6.6 in e:\\python\\lib\\site-packages (from tensorflow-intel==2.18.0->tensorflow>=1.9.0->deepface) (4.11.0)\n",
            "Requirement already satisfied: wrapt>=1.11.0 in e:\\python\\lib\\site-packages (from tensorflow-intel==2.18.0->tensorflow>=1.9.0->deepface) (1.14.1)\n",
            "Requirement already satisfied: grpcio<2.0,>=1.24.3 in e:\\python\\lib\\site-packages (from tensorflow-intel==2.18.0->tensorflow>=1.9.0->deepface) (1.65.5)\n",
            "Requirement already satisfied: tensorboard<2.19,>=2.18 in e:\\python\\lib\\site-packages (from tensorflow-intel==2.18.0->tensorflow>=1.9.0->deepface) (2.18.0)\n",
            "Requirement already satisfied: colorama in e:\\python\\lib\\site-packages (from tqdm>=4.30.0->deepface) (0.4.6)\n",
            "Requirement already satisfied: MarkupSafe>=2.0 in e:\\python\\lib\\site-packages (from Jinja2>=3.1.2->Flask>=1.1.2->deepface) (2.1.3)\n",
            "Requirement already satisfied: soupsieve>1.2 in e:\\python\\lib\\site-packages (from beautifulsoup4->gdown>=3.10.1->deepface) (2.5)\n",
            "Requirement already satisfied: PySocks!=1.5.7,>=1.5.6 in e:\\python\\lib\\site-packages (from requests[socks]->gdown>=3.10.1->deepface) (1.7.1)\n",
            "Requirement already satisfied: markdown-it-py<3.0.0,>=2.2.0 in e:\\python\\lib\\site-packages (from rich->keras>=2.2.0->deepface) (2.2.0)\n",
            "Requirement already satisfied: pygments<3.0.0,>=2.13.0 in e:\\python\\lib\\site-packages (from rich->keras>=2.2.0->deepface) (2.15.1)\n",
            "Requirement already satisfied: wheel<1.0,>=0.23.0 in e:\\python\\lib\\site-packages (from astunparse>=1.6.0->tensorflow-intel==2.18.0->tensorflow>=1.9.0->deepface) (0.44.0)\n",
            "Requirement already satisfied: mdurl~=0.1 in e:\\python\\lib\\site-packages (from markdown-it-py<3.0.0,>=2.2.0->rich->keras>=2.2.0->deepface) (0.1.0)\n",
            "Requirement already satisfied: markdown>=2.6.8 in e:\\python\\lib\\site-packages (from tensorboard<2.19,>=2.18->tensorflow-intel==2.18.0->tensorflow>=1.9.0->deepface) (3.7)\n",
            "Requirement already satisfied: tensorboard-data-server<0.8.0,>=0.7.0 in e:\\python\\lib\\site-packages (from tensorboard<2.19,>=2.18->tensorflow-intel==2.18.0->tensorflow>=1.9.0->deepface) (0.7.2)\n",
            "Downloading youtube_search_python-1.6.6-py3-none-any.whl (89 kB)\n",
            "Installing collected packages: youtube-search-python\n",
            "Successfully installed youtube-search-python-1.6.6\n",
            "Note: you may need to restart the kernel to use updated packages.\n"
          ]
        }
      ],
      "source": [
        "pip install opencv-python deepface youtube-search-python"
      ]
    },
    {
      "cell_type": "code",
      "execution_count": null,
      "id": "088b0717-79e2-49ce-86f5-49f7ed3c695d",
      "metadata": {
        "id": "088b0717-79e2-49ce-86f5-49f7ed3c695d",
        "outputId": "0ad62cb9-bcb3-4299-c0a2-ec57cf4c33b4"
      },
      "outputs": [
        {
          "name": "stdout",
          "output_type": "stream",
          "text": [
            "Collecting tf-keras\n",
            "  Using cached tf_keras-2.18.0-py3-none-any.whl.metadata (1.6 kB)\n",
            "Collecting tensorflow<2.19,>=2.18 (from tf-keras)\n",
            "  Using cached tensorflow-2.18.0-cp312-cp312-win_amd64.whl.metadata (3.3 kB)\n",
            "Collecting tensorflow-intel==2.18.0 (from tensorflow<2.19,>=2.18->tf-keras)\n",
            "  Using cached tensorflow_intel-2.18.0-cp312-cp312-win_amd64.whl.metadata (4.9 kB)\n",
            "Requirement already satisfied: absl-py>=1.0.0 in e:\\python\\lib\\site-packages (from tensorflow-intel==2.18.0->tensorflow<2.19,>=2.18->tf-keras) (2.1.0)\n",
            "Requirement already satisfied: astunparse>=1.6.0 in e:\\python\\lib\\site-packages (from tensorflow-intel==2.18.0->tensorflow<2.19,>=2.18->tf-keras) (1.6.3)\n",
            "Requirement already satisfied: flatbuffers>=24.3.25 in e:\\python\\lib\\site-packages (from tensorflow-intel==2.18.0->tensorflow<2.19,>=2.18->tf-keras) (24.3.25)\n",
            "Requirement already satisfied: gast!=0.5.0,!=0.5.1,!=0.5.2,>=0.2.1 in e:\\python\\lib\\site-packages (from tensorflow-intel==2.18.0->tensorflow<2.19,>=2.18->tf-keras) (0.6.0)\n",
            "Requirement already satisfied: google-pasta>=0.1.1 in e:\\python\\lib\\site-packages (from tensorflow-intel==2.18.0->tensorflow<2.19,>=2.18->tf-keras) (0.2.0)\n",
            "Requirement already satisfied: libclang>=13.0.0 in e:\\python\\lib\\site-packages (from tensorflow-intel==2.18.0->tensorflow<2.19,>=2.18->tf-keras) (18.1.1)\n",
            "Requirement already satisfied: opt-einsum>=2.3.2 in e:\\python\\lib\\site-packages (from tensorflow-intel==2.18.0->tensorflow<2.19,>=2.18->tf-keras) (3.3.0)\n",
            "Requirement already satisfied: packaging in e:\\python\\lib\\site-packages (from tensorflow-intel==2.18.0->tensorflow<2.19,>=2.18->tf-keras) (23.2)\n",
            "Requirement already satisfied: protobuf!=4.21.0,!=4.21.1,!=4.21.2,!=4.21.3,!=4.21.4,!=4.21.5,<6.0.0dev,>=3.20.3 in e:\\python\\lib\\site-packages (from tensorflow-intel==2.18.0->tensorflow<2.19,>=2.18->tf-keras) (4.25.4)\n",
            "Requirement already satisfied: requests<3,>=2.21.0 in e:\\python\\lib\\site-packages (from tensorflow-intel==2.18.0->tensorflow<2.19,>=2.18->tf-keras) (2.32.2)\n",
            "Requirement already satisfied: setuptools in e:\\python\\lib\\site-packages (from tensorflow-intel==2.18.0->tensorflow<2.19,>=2.18->tf-keras) (75.1.0)\n",
            "Requirement already satisfied: six>=1.12.0 in e:\\python\\lib\\site-packages (from tensorflow-intel==2.18.0->tensorflow<2.19,>=2.18->tf-keras) (1.16.0)\n",
            "Requirement already satisfied: termcolor>=1.1.0 in e:\\python\\lib\\site-packages (from tensorflow-intel==2.18.0->tensorflow<2.19,>=2.18->tf-keras) (2.4.0)\n",
            "Requirement already satisfied: typing-extensions>=3.6.6 in e:\\python\\lib\\site-packages (from tensorflow-intel==2.18.0->tensorflow<2.19,>=2.18->tf-keras) (4.11.0)\n",
            "Requirement already satisfied: wrapt>=1.11.0 in e:\\python\\lib\\site-packages (from tensorflow-intel==2.18.0->tensorflow<2.19,>=2.18->tf-keras) (1.14.1)\n",
            "Requirement already satisfied: grpcio<2.0,>=1.24.3 in e:\\python\\lib\\site-packages (from tensorflow-intel==2.18.0->tensorflow<2.19,>=2.18->tf-keras) (1.65.5)\n",
            "Collecting tensorboard<2.19,>=2.18 (from tensorflow-intel==2.18.0->tensorflow<2.19,>=2.18->tf-keras)\n",
            "  Using cached tensorboard-2.18.0-py3-none-any.whl.metadata (1.6 kB)\n",
            "Requirement already satisfied: keras>=3.5.0 in e:\\python\\lib\\site-packages (from tensorflow-intel==2.18.0->tensorflow<2.19,>=2.18->tf-keras) (3.5.0)\n",
            "Requirement already satisfied: numpy<2.1.0,>=1.26.0 in e:\\python\\lib\\site-packages (from tensorflow-intel==2.18.0->tensorflow<2.19,>=2.18->tf-keras) (1.26.4)\n",
            "Requirement already satisfied: h5py>=3.11.0 in e:\\python\\lib\\site-packages (from tensorflow-intel==2.18.0->tensorflow<2.19,>=2.18->tf-keras) (3.11.0)\n",
            "Requirement already satisfied: ml-dtypes<0.5.0,>=0.4.0 in e:\\python\\lib\\site-packages (from tensorflow-intel==2.18.0->tensorflow<2.19,>=2.18->tf-keras) (0.4.0)\n",
            "Requirement already satisfied: wheel<1.0,>=0.23.0 in e:\\python\\lib\\site-packages (from astunparse>=1.6.0->tensorflow-intel==2.18.0->tensorflow<2.19,>=2.18->tf-keras) (0.44.0)\n",
            "Requirement already satisfied: rich in e:\\python\\lib\\site-packages (from keras>=3.5.0->tensorflow-intel==2.18.0->tensorflow<2.19,>=2.18->tf-keras) (13.3.5)\n",
            "Requirement already satisfied: namex in e:\\python\\lib\\site-packages (from keras>=3.5.0->tensorflow-intel==2.18.0->tensorflow<2.19,>=2.18->tf-keras) (0.0.8)\n",
            "Requirement already satisfied: optree in e:\\python\\lib\\site-packages (from keras>=3.5.0->tensorflow-intel==2.18.0->tensorflow<2.19,>=2.18->tf-keras) (0.12.1)\n",
            "Requirement already satisfied: charset-normalizer<4,>=2 in e:\\python\\lib\\site-packages (from requests<3,>=2.21.0->tensorflow-intel==2.18.0->tensorflow<2.19,>=2.18->tf-keras) (2.0.4)\n",
            "Requirement already satisfied: idna<4,>=2.5 in e:\\python\\lib\\site-packages (from requests<3,>=2.21.0->tensorflow-intel==2.18.0->tensorflow<2.19,>=2.18->tf-keras) (3.7)\n",
            "Requirement already satisfied: urllib3<3,>=1.21.1 in e:\\python\\lib\\site-packages (from requests<3,>=2.21.0->tensorflow-intel==2.18.0->tensorflow<2.19,>=2.18->tf-keras) (2.2.2)\n",
            "Requirement already satisfied: certifi>=2017.4.17 in e:\\python\\lib\\site-packages (from requests<3,>=2.21.0->tensorflow-intel==2.18.0->tensorflow<2.19,>=2.18->tf-keras) (2024.7.4)\n",
            "Requirement already satisfied: markdown>=2.6.8 in e:\\python\\lib\\site-packages (from tensorboard<2.19,>=2.18->tensorflow-intel==2.18.0->tensorflow<2.19,>=2.18->tf-keras) (3.7)\n",
            "Requirement already satisfied: tensorboard-data-server<0.8.0,>=0.7.0 in e:\\python\\lib\\site-packages (from tensorboard<2.19,>=2.18->tensorflow-intel==2.18.0->tensorflow<2.19,>=2.18->tf-keras) (0.7.2)\n",
            "Requirement already satisfied: werkzeug>=1.0.1 in e:\\python\\lib\\site-packages (from tensorboard<2.19,>=2.18->tensorflow-intel==2.18.0->tensorflow<2.19,>=2.18->tf-keras) (3.1.3)\n",
            "Requirement already satisfied: MarkupSafe>=2.1.1 in e:\\python\\lib\\site-packages (from werkzeug>=1.0.1->tensorboard<2.19,>=2.18->tensorflow-intel==2.18.0->tensorflow<2.19,>=2.18->tf-keras) (2.1.3)\n",
            "Requirement already satisfied: markdown-it-py<3.0.0,>=2.2.0 in e:\\python\\lib\\site-packages (from rich->keras>=3.5.0->tensorflow-intel==2.18.0->tensorflow<2.19,>=2.18->tf-keras) (2.2.0)\n",
            "Requirement already satisfied: pygments<3.0.0,>=2.13.0 in e:\\python\\lib\\site-packages (from rich->keras>=3.5.0->tensorflow-intel==2.18.0->tensorflow<2.19,>=2.18->tf-keras) (2.15.1)\n",
            "Requirement already satisfied: mdurl~=0.1 in e:\\python\\lib\\site-packages (from markdown-it-py<3.0.0,>=2.2.0->rich->keras>=3.5.0->tensorflow-intel==2.18.0->tensorflow<2.19,>=2.18->tf-keras) (0.1.0)\n",
            "Using cached tf_keras-2.18.0-py3-none-any.whl (1.7 MB)\n",
            "Using cached tensorflow-2.18.0-cp312-cp312-win_amd64.whl (7.5 kB)\n",
            "Using cached tensorflow_intel-2.18.0-cp312-cp312-win_amd64.whl (390.3 MB)\n",
            "Using cached tensorboard-2.18.0-py3-none-any.whl (5.5 MB)\n",
            "Installing collected packages: tensorboard, tensorflow-intel, tensorflow, tf-keras\n",
            "  Attempting uninstall: tensorboard\n",
            "    Found existing installation: tensorboard 2.17.1\n",
            "    Uninstalling tensorboard-2.17.1:\n",
            "      Successfully uninstalled tensorboard-2.17.1\n",
            "  Attempting uninstall: tensorflow-intel\n",
            "    Found existing installation: tensorflow-intel 2.17.0\n",
            "    Uninstalling tensorflow-intel-2.17.0:\n",
            "      Successfully uninstalled tensorflow-intel-2.17.0\n",
            "  Attempting uninstall: tensorflow\n",
            "    Found existing installation: tensorflow 2.17.0\n",
            "    Uninstalling tensorflow-2.17.0:\n",
            "      Successfully uninstalled tensorflow-2.17.0\n",
            "Successfully installed tensorboard-2.18.0 tensorflow-2.18.0 tensorflow-intel-2.18.0 tf-keras-2.18.0\n",
            "Note: you may need to restart the kernel to use updated packages.\n"
          ]
        },
        {
          "name": "stderr",
          "output_type": "stream",
          "text": [
            "  WARNING: Failed to remove contents in a temporary directory 'E:\\Python\\Lib\\site-packages\\~ensorflow'.\n",
            "  You can safely remove it manually.\n"
          ]
        }
      ],
      "source": [
        "pip install tf-keras"
      ]
    },
    {
      "cell_type": "code",
      "execution_count": null,
      "id": "febdd33c-5121-44e3-bdb7-f5ab5db825da",
      "metadata": {
        "id": "febdd33c-5121-44e3-bdb7-f5ab5db825da",
        "outputId": "6b26589d-01f5-4112-8f8d-eef52f498d25"
      },
      "outputs": [
        {
          "name": "stdout",
          "output_type": "stream",
          "text": [
            "WARNING:tensorflow:From E:\\Python\\Lib\\site-packages\\tf_keras\\src\\losses.py:2976: The name tf.losses.sparse_softmax_cross_entropy is deprecated. Please use tf.compat.v1.losses.sparse_softmax_cross_entropy instead.\n",
            "\n"
          ]
        }
      ],
      "source": [
        "import cv2\n",
        "import numpy as np\n",
        "from deepface import DeepFace\n",
        "from youtube_search import YoutubeSearch\n",
        "import webbrowser\n",
        "from IPython.display import Image, display\n",
        "import warnings\n",
        "warnings.filterwarnings(\"ignore\")"
      ]
    },
    {
      "cell_type": "code",
      "execution_count": null,
      "id": "f6bdcfea-ad79-4416-8497-c7170aa5a0c7",
      "metadata": {
        "id": "f6bdcfea-ad79-4416-8497-c7170aa5a0c7"
      },
      "outputs": [],
      "source": [
        "class EmotionMusicPlayer:\n",
        "    def __init__(self):\n",
        "        # Emotion mappings with Sinhala song keywords\n",
        "        self.emotion_songs = {\n",
        "            'happy': [\n",
        "                'sinhala happy songs',\n",
        "                'සිනහ ගීත',\n",
        "                'සතුට් ගීත',\n",
        "                'nanda malani happy songs',\n",
        "                'edward jayakody happy songs'\n",
        "            ],\n",
        "            'sad': [\n",
        "                'සිංහල පැරණි දුක් ගීත',\n",
        "                'amarasiri peiris sad songs',\n",
        "                'clarence wijewardena sad songs',\n",
        "                'සිංහල sad songs',\n",
        "                'විරහ ගී'\n",
        "            ],\n",
        "            'angry': [\n",
        "                'සිංහල rock ගීත',\n",
        "                'sinhala powerful songs',\n",
        "                'gypsies fast songs',\n",
        "                'සටන් පාට ගීත'\n",
        "            ],\n",
        "            'neutral': [\n",
        "                'සිංහල classical ගීත',\n",
        "                'sunil edirisinghe songs',\n",
        "                'victor rathnayake songs',\n",
        "                'සාන්ත ගීත'\n",
        "            ],\n",
        "            'fear': [\n",
        "                'සිංහල බැක්ටි ගීත',\n",
        "                'සිංහල භාවනා ගීත',\n",
        "                'sinhala devotional songs',\n",
        "                'පැරණි භක්ති ගීත'\n",
        "            ],\n",
        "            'surprise': [\n",
        "                'සිංහල නව පරපුරේ ගීත',\n",
        "                'bathiya and santhush songs',\n",
        "                'modern sinhala songs',\n",
        "                'සිංහල pop ගීත'\n",
        "            ],\n",
        "            'disgust': [\n",
        "                'සිංහල සැහැල්ලු ගීත',\n",
        "                'milton mallawarachchi happy songs',\n",
        "                'සිංහල චිත්‍රපට ගීත',\n",
        "                'sinhala movie happy songs'\n",
        "            ]\n",
        "        }\n",
        "\n",
        "\n",
        "    def get_emotion(self, image_path):\n",
        "        # Read and display the uploaded image\n",
        "        img = cv2.imread(image_path)\n",
        "        if img is None:\n",
        "            raise ValueError(\"Could not read the image file\")\n",
        "\n",
        "        # Display the image in the notebook\n",
        "        display(Image(filename=image_path))\n",
        "\n",
        "        try:\n",
        "            result = DeepFace.analyze(img,\n",
        "                                    actions=['emotion'],\n",
        "                                    enforce_detection=False)\n",
        "            emotion = result[0]['dominant_emotion']\n",
        "            print(f\"Detected emotion: {emotion}\")\n",
        "            return emotion\n",
        "        except Exception as e:\n",
        "            print(f\"Error in emotion detection: {e}\")\n",
        "            return 'neutral'\n",
        "\n",
        "    def search_and_open_song(self, emotion):\n",
        "        search_query = np.random.choice(self.emotion_songs[emotion])\n",
        "        try:\n",
        "            results = YoutubeSearch(search_query, max_results=1).to_dict()\n",
        "            if results:\n",
        "                video_url = f\"https://youtube.com{results[0]['url_suffix']}\"\n",
        "                print(f\"Opening YouTube: {results[0]['title']}\")\n",
        "                webbrowser.open(video_url)\n",
        "                return True\n",
        "            return False\n",
        "        except Exception as e:\n",
        "            print(f\"Error searching song: {e}\")\n",
        "            return False\n",
        "\n",
        "    def process_image(self, image_path):\n",
        "        \"\"\"Main function to process image and open YouTube\"\"\"\n",
        "        print(\"Processing image and searching for music...\")\n",
        "\n",
        "        # Get emotion from image\n",
        "        emotion = self.get_emotion(image_path)\n",
        "\n",
        "        # Search and open song in browser\n",
        "        self.search_and_open_song(emotion)"
      ]
    },
    {
      "cell_type": "code",
      "execution_count": null,
      "id": "060aaa98-1c27-484d-addb-e33a03475448",
      "metadata": {
        "id": "060aaa98-1c27-484d-addb-e33a03475448",
        "outputId": "694f1385-7c2b-4d7b-d5de-385602db14ce"
      },
      "outputs": [
        {
          "name": "stdout",
          "output_type": "stream",
          "text": [
            "Processing image and searching for music...\n"
          ]
        },
        {
          "data": {
            "image/jpeg": "[encoded data removed]",
            "text/plain": [
              "<IPython.core.display.Image object>"
            ]
          },
          "metadata": {},
          "output_type": "display_data"
        },
        {
          "name": "stdout",
          "output_type": "stream",
          "text": [
            "Detected emotion: happy\n",
            "Opening YouTube: Tharuda Nidana Maha Ra (තරුද නිදන මහ රෑ) - Visharadha Nanda Malini | Official Remake\n"
          ]
        }
      ],
      "source": [
        "# Create player instance\n",
        "player = EmotionMusicPlayer()\n",
        "\n",
        "# Process image and open YouTube\n",
        "# Replace with your actual image path\n",
        "image_path = 'face1.jpg'\n",
        "player.process_image(image_path)"
      ]
    },
    {
      "cell_type": "code",
      "execution_count": null,
      "id": "33169dd0-9b3f-49e5-8746-110d93078731",
      "metadata": {
        "id": "33169dd0-9b3f-49e5-8746-110d93078731"
      },
      "outputs": [],
      "source": []
    },
    {
      "cell_type": "code",
      "execution_count": null,
      "id": "e6bca4cf-f1d3-47ba-81f1-da68bf252bcd",
      "metadata": {
        "id": "e6bca4cf-f1d3-47ba-81f1-da68bf252bcd"
      },
      "outputs": [],
      "source": []
    }
  ],
  "metadata": {
    "kernelspec": {
      "display_name": "Python 3 (ipykernel)",
      "language": "python",
      "name": "python3"
    },
    "language_info": {
      "codemirror_mode": {
        "name": "ipython",
        "version": 3
      },
      "file_extension": ".py",
      "mimetype": "text/x-python",
      "name": "python",
      "nbconvert_exporter": "python",
      "pygments_lexer": "ipython3",
      "version": "3.12.4"
    },
    "colab": {
      "provenance": [],
      "include_colab_link": true
    }
  },
  "nbformat": 4,
  "nbformat_minor": 5
}