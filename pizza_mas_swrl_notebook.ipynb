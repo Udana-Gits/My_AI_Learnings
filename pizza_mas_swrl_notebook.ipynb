{
  "cells": [
    {
      "cell_type": "markdown",
      "metadata": {
        "id": "view-in-github",
        "colab_type": "text"
      },
      "source": [
        "<a href=\"https://colab.research.google.com/github/Udana-Gits/My_AI_Learnings/blob/main/pizza_mas_swrl_notebook.ipynb\" target=\"_parent\"><img src=\"https://colab.research.google.com/assets/colab-badge.svg\" alt=\"Open In Colab\"/></a>"
      ]
    },
    {
      "cell_type": "markdown",
      "id": "29797322",
      "metadata": {
        "id": "29797322"
      },
      "source": [
        "# Pizza MAS with Ontology & SWRL (Notebook)\n",
        "\n",
        "This notebook reproduces the `pizza_mas_swrl.py` demo as runnable cells with explanations. Requirements: `owlready2`, `mesa`. Run cells sequentially."
      ]
    },
    {
      "cell_type": "markdown",
      "id": "c8219765",
      "metadata": {
        "id": "c8219765"
      },
      "source": [
        "## Code\n",
        "\n",
        "Explanation for code."
      ]
    },
    {
      "cell_type": "code",
      "execution_count": 2,
      "id": "5e22da64",
      "metadata": {
        "colab": {
          "base_uri": "https://localhost:8080/",
          "height": 53
        },
        "id": "5e22da64",
        "outputId": "8b7683f6-26ae-4996-829a-ff1d4161d5ec"
      },
      "outputs": [
        {
          "output_type": "execute_result",
          "data": {
            "text/plain": [
              "'\\npizza_mas_swrl.py as Jupyter Notebook version\\n---------------------------------------------\\nThis notebook contains a fully functional ontology-driven multi-agent system (MAS)\\nfor a Pizza shop, using Owlready2 for ontology + SWRL and Mesa for agent simulation.\\nSections: 1) Setup & imports, 2) Ontology definition, 3) Individuals, 4) SWRL rules,\\n5) Helper functions & reasoner, 6) Message bus, 7) MAS model & agents, 8) Run simulation,\\n9) Inspect OWL messages & summary.\\n'"
            ],
            "application/vnd.google.colaboratory.intrinsic+json": {
              "type": "string"
            }
          },
          "metadata": {},
          "execution_count": 2
        }
      ],
      "source": [
        "# -*- coding: utf-8 -*-\n",
        "\"\"\"\n",
        "pizza_mas_swrl.py as Jupyter Notebook version\n",
        "---------------------------------------------\n",
        "This notebook contains a fully functional ontology-driven multi-agent system (MAS)\n",
        "for a Pizza shop, using Owlready2 for ontology + SWRL and Mesa for agent simulation.\n",
        "Sections: 1) Setup & imports, 2) Ontology definition, 3) Individuals, 4) SWRL rules,\n",
        "5) Helper functions & reasoner, 6) Message bus, 7) MAS model & agents, 8) Run simulation,\n",
        "9) Inspect OWL messages & summary.\n",
        "\"\"\""
      ]
    },
    {
      "cell_type": "code",
      "source": [
        "pip install mesa\n"
      ],
      "metadata": {
        "colab": {
          "base_uri": "https://localhost:8080/"
        },
        "id": "iTw2BElIqP9S",
        "outputId": "e5b62a36-099f-4a82-cff9-5d7b532a0f68"
      },
      "id": "iTw2BElIqP9S",
      "execution_count": 5,
      "outputs": [
        {
          "output_type": "stream",
          "name": "stdout",
          "text": [
            "Collecting mesa\n",
            "  Downloading mesa-3.3.0-py3-none-any.whl.metadata (11 kB)\n",
            "Requirement already satisfied: numpy in /usr/local/lib/python3.12/dist-packages (from mesa) (2.0.2)\n",
            "Requirement already satisfied: pandas in /usr/local/lib/python3.12/dist-packages (from mesa) (2.2.2)\n",
            "Requirement already satisfied: scipy in /usr/local/lib/python3.12/dist-packages (from mesa) (1.16.2)\n",
            "Requirement already satisfied: tqdm in /usr/local/lib/python3.12/dist-packages (from mesa) (4.67.1)\n",
            "Requirement already satisfied: python-dateutil>=2.8.2 in /usr/local/lib/python3.12/dist-packages (from pandas->mesa) (2.9.0.post0)\n",
            "Requirement already satisfied: pytz>=2020.1 in /usr/local/lib/python3.12/dist-packages (from pandas->mesa) (2025.2)\n",
            "Requirement already satisfied: tzdata>=2022.7 in /usr/local/lib/python3.12/dist-packages (from pandas->mesa) (2025.2)\n",
            "Requirement already satisfied: six>=1.5 in /usr/local/lib/python3.12/dist-packages (from python-dateutil>=2.8.2->pandas->mesa) (1.17.0)\n",
            "Downloading mesa-3.3.0-py3-none-any.whl (239 kB)\n",
            "\u001b[2K   \u001b[90m━━━━━━━━━━━━━━━━━━━━━━━━━━━━━━━━━━━━━━━━\u001b[0m \u001b[32m239.6/239.6 kB\u001b[0m \u001b[31m4.1 MB/s\u001b[0m eta \u001b[36m0:00:00\u001b[0m\n",
            "\u001b[?25hInstalling collected packages: mesa\n",
            "Successfully installed mesa-3.3.0\n"
          ]
        }
      ]
    },
    {
      "cell_type": "code",
      "source": [
        "pip install owlready2"
      ],
      "metadata": {
        "colab": {
          "base_uri": "https://localhost:8080/"
        },
        "id": "hen8d4ziqmUe",
        "outputId": "6c64e783-1a7b-4d56-8870-ca86e48a030c"
      },
      "id": "hen8d4ziqmUe",
      "execution_count": 7,
      "outputs": [
        {
          "output_type": "stream",
          "name": "stdout",
          "text": [
            "Collecting owlready2\n",
            "  Downloading owlready2-0.48.tar.gz (27.3 MB)\n",
            "\u001b[2K     \u001b[90m━━━━━━━━━━━━━━━━━━━━━━━━━━━━━━━━━━━━━━━━\u001b[0m \u001b[32m27.3/27.3 MB\u001b[0m \u001b[31m45.2 MB/s\u001b[0m eta \u001b[36m0:00:00\u001b[0m\n",
            "\u001b[?25h  Installing build dependencies ... \u001b[?25l\u001b[?25hdone\n",
            "  Getting requirements to build wheel ... \u001b[?25l\u001b[?25hdone\n",
            "  Preparing metadata (pyproject.toml) ... \u001b[?25l\u001b[?25hdone\n",
            "Building wheels for collected packages: owlready2\n",
            "  Building wheel for owlready2 (pyproject.toml) ... \u001b[?25l\u001b[?25hdone\n",
            "  Created wheel for owlready2: filename=owlready2-0.48-cp312-cp312-linux_x86_64.whl size=24545947 sha256=97cfdd1194848b75476aa5e3efef61b83e4cc0689c3a4b3d0700ab1dfb27ed70\n",
            "  Stored in directory: /root/.cache/pip/wheels/80/6b/6e/3a4fd869625821d573b27fc501b24fd715ab53ee483e981664\n",
            "Successfully built owlready2\n",
            "Installing collected packages: owlready2\n",
            "Successfully installed owlready2-0.48\n"
          ]
        }
      ]
    },
    {
      "cell_type": "code",
      "execution_count": 8,
      "id": "b26c6132",
      "metadata": {
        "id": "b26c6132"
      },
      "outputs": [],
      "source": [
        "# @title Default title text\n",
        "#Imports\n",
        "#from typing import List, Optional\n",
        "import random\n",
        "from mesa import Agent, Model\n",
        "from owlready2 import (\n",
        "    World, Thing, ObjectProperty, DataProperty, Not,\n",
        "    Imp, sync_reasoner_pellet\n",
        ")"
      ]
    },
    {
      "cell_type": "markdown",
      "id": "368457c1",
      "metadata": {
        "id": "368457c1"
      },
      "source": [
        "## Section 1 — Imports & Setup\n",
        "\n",
        "Explanation for section 1 — imports & setup."
      ]
    },
    {
      "cell_type": "markdown",
      "id": "2cd0c127",
      "metadata": {
        "id": "2cd0c127"
      },
      "source": [
        "## Section 2 — Ontology Definition\n",
        "\n",
        "Explanation for section 2 — ontology definition."
      ]
    },
    {
      "cell_type": "code",
      "execution_count": 9,
      "id": "37ca5b8f",
      "metadata": {
        "id": "37ca5b8f"
      },
      "outputs": [],
      "source": [
        "#Build ontology in memory\n",
        "world = World()\n",
        "onto = world.get_ontology(\"http://example.org/pizza.owl\")\n",
        "\n",
        "with onto:\n",
        "    # Domain concepts\n",
        "    # ... means Ellipsis literal. Still the complete code is not provided, only the definition.\n",
        "    class Pizza(Thing): ...\n",
        "    class Topping(Thing): ...\n",
        "    class MeatTopping(Topping): ...\n",
        "    class VegTopping(Topping): ...\n",
        "\n",
        "    class hasTopping(ObjectProperty):\n",
        "        domain = [Pizza]\n",
        "        range = [Topping]\n",
        "\n",
        "    # VegetarianPizza: Pizza but NOT(hasTopping some MeatTopping)\n",
        "    class VegetarianPizza(Pizza):\n",
        "        equivalent_to = [Pizza & Not(hasTopping.some(MeatTopping))]\n",
        "        pass\n",
        "\n",
        "    # Agent roles\n",
        "    class AgentThing(Thing): ...\n",
        "    class Chef(AgentThing): ...\n",
        "    class Customer(AgentThing): ...\n",
        "    class Courier(AgentThing): ...\n",
        "    class Dispatcher(AgentThing): ...\n",
        "\n",
        "    # Tasks (kept simple; they showcase role semantics)\n",
        "    class Task(Thing): ...\n",
        "    class OrderPizzaTask(Task): ...\n",
        "    class BakePizzaTask(Task): ...\n",
        "    class DeliverPizzaTask(Task): ...\n",
        "    class DispatchTask(Task): ...\n",
        "\n",
        "    class hasTask(ObjectProperty):\n",
        "        domain = [AgentThing]\n",
        "        range  = [Task]\n",
        "\n",
        "    # Chef constraint: vegetarianOnly = True means can bake only vegetarian pizzas\n",
        "    class vegetarianOnly(DataProperty):\n",
        "        domain = [Chef]\n",
        "        range  = [bool]\n",
        "\n",
        "    # Messages (OWL individuals for semantic communications)\n",
        "    class Message(Thing): ...\n",
        "    class OrderRequest(Message): ...\n",
        "    class BakeOrder(Message): ...\n",
        "    class DeliveryOrder(Message): ...\n",
        "\n",
        "    class sender(ObjectProperty):\n",
        "        domain = [Message]\n",
        "        range  = [AgentThing]\n",
        "    class receiver(ObjectProperty):\n",
        "        domain = [Message]\n",
        "        range  = [AgentThing]\n",
        "    class aboutPizza(ObjectProperty):\n",
        "        domain = [Message]\n",
        "        range  = [Pizza]\n",
        "    class quantity(DataProperty):\n",
        "        domain = [Message]\n",
        "        range  = [int]"
      ]
    },
    {
      "cell_type": "markdown",
      "id": "8c0dca54",
      "metadata": {
        "id": "8c0dca54"
      },
      "source": [
        "## Section 3 — Create Pizzas & Toppings (Individuals)\n",
        "\n",
        "Explanation for section 3 — create pizzas & toppings (individuals)."
      ]
    },
    {
      "cell_type": "code",
      "execution_count": 10,
      "id": "b3856e26",
      "metadata": {
        "id": "b3856e26"
      },
      "outputs": [],
      "source": [
        "#Create toppings and pizzas - Individual creations/mappings\n",
        "with onto:\n",
        "    tomato = onto.VegTopping(\"TomatoSauce\")\n",
        "    mozzarella = onto.VegTopping(\"Mozzarella\")\n",
        "    basil = onto.VegTopping(\"Basil\")\n",
        "    pepperoni = onto.MeatTopping(\"Pepperoni\")\n",
        "    chicken = onto.MeatTopping(\"Chicken\")\n",
        "\n",
        "    margherita = onto.Pizza(\"MargheritaPizza\")\n",
        "    # mapping individuals\n",
        "    margherita.hasTopping = [tomato, mozzarella, basil]\n",
        "\n",
        "    pepperoni_pizza = onto.Pizza(\"PepperoniPizza\")\n",
        "    pepperoni_pizza.hasTopping = [tomato, mozzarella, pepperoni]\n",
        "\n",
        "    bbq_chicken = onto.Pizza(\"BBQChickenPizza\")\n",
        "    bbq_chicken.hasTopping = [tomato, mozzarella, chicken]"
      ]
    },
    {
      "cell_type": "markdown",
      "id": "28f22541",
      "metadata": {
        "id": "28f22541"
      },
      "source": [
        "## Section 4 — Agent Individuals\n",
        "\n",
        "Explanation for section 4 — agent individuals."
      ]
    },
    {
      "cell_type": "code",
      "execution_count": 11,
      "id": "e26cd323",
      "metadata": {
        "id": "e26cd323"
      },
      "outputs": [],
      "source": [
        "# Create OWL agent individuals\n",
        "with onto:\n",
        "    cust1_ind = onto.Customer(\"cust1\")\n",
        "    cust1_ind.hasTask = [onto.OrderPizzaTask()]\n",
        "\n",
        "    chefVeg_ind = onto.Chef(\"chefVeg\")\n",
        "    chefVeg_ind.hasTask = [onto.BakePizzaTask()]\n",
        "    chefVeg_ind.vegetarianOnly = [True]\n",
        "\n",
        "    chefAll_ind = onto.Chef(\"chefAll\")\n",
        "    chefAll_ind.hasTask = [onto.BakePizzaTask()]\n",
        "    chefAll_ind.vegetarianOnly = [False]\n",
        "\n",
        "    courier1_ind = onto.Courier(\"courier1\")\n",
        "    courier1_ind.hasTask = [onto.DeliverPizzaTask()]\n",
        "\n",
        "    dispatcher_ind = onto.Dispatcher(\"dispatcher1\")\n",
        "    dispatcher_ind.hasTask = [onto.DispatchTask()]"
      ]
    },
    {
      "cell_type": "markdown",
      "id": "1d0ea226",
      "metadata": {
        "id": "1d0ea226"
      },
      "source": [
        "## Section 5 — SWRL Rules\n",
        "\n",
        "Explanation for section 5 — swrl rules. - Handle message routing logics"
      ]
    },
    {
      "cell_type": "code",
      "execution_count": 12,
      "id": "091e406e",
      "metadata": {
        "id": "091e406e"
      },
      "outputs": [],
      "source": [
        "#SWRL Rules (vegetarian routing)\n",
        "# If a message is an OrderRequest about a VegetarianPizza, then assign its receiver as chefVeg\n",
        "with onto:\n",
        "    rule_route_veg = Imp()\n",
        "\n",
        "    rule_route_veg.set_as_rule(f\"\"\"\n",
        "        OrderRequest(?m) ^ aboutPizza(?m, ?p) ^ VegetarianPizza(?p) -> receiver(?m, {chefVeg_ind.name})\n",
        "    \"\"\")"
      ]
    },
    {
      "cell_type": "code",
      "execution_count": 13,
      "id": "41bd0362-9e37-454f-a611-91092aa61d71",
      "metadata": {
        "colab": {
          "base_uri": "https://localhost:8080/"
        },
        "id": "41bd0362-9e37-454f-a611-91092aa61d71",
        "outputId": "5a809002-91ed-476c-c492-9ec195c1ad11"
      },
      "outputs": [
        {
          "output_type": "execute_result",
          "data": {
            "text/plain": [
              "OrderRequest(?m), aboutPizza(?m, ?p), hasTopping(?p, ?t), MeatTopping(?t) -> receiver(?m, pizza.chefAll)"
            ]
          },
          "metadata": {},
          "execution_count": 13
        }
      ],
      "source": [
        "#SWRL Rules (non-vegetarian routing)\n",
        "# If a message is an OrderRequest about a non- VegetarianPizza, then assign its receiver as chefNon-Veg\n",
        "with onto:\n",
        "    rule_nonveg = Imp()\n",
        "\n",
        "rule_nonveg.set_as_rule(f\"\"\"\n",
        "    OrderRequest(?m) ^ aboutPizza(?m, ?p) ^ hasTopping(?p, ?t) ^ MeatTopping(?t)\n",
        "    -> receiver(?m, {chefAll_ind.name})\n",
        "\"\"\")\n",
        "\n",
        "\n",
        "# If it’s a pizza that’s **not vegetarian**, send it to the general chef.\n"
      ]
    },
    {
      "cell_type": "markdown",
      "id": "92bcb85c",
      "metadata": {
        "id": "92bcb85c"
      },
      "source": [
        "## Section 6 — Reasoner Helpers\n",
        "\n",
        "Explanation for section 6 — reasoner helpers."
      ]
    },
    {
      "cell_type": "code",
      "execution_count": 14,
      "id": "b48064f0",
      "metadata": {
        "id": "b48064f0"
      },
      "outputs": [],
      "source": [
        "#Reasoner helpers\n",
        "# If needed string param can be provided. (optional)\n",
        "# load the reasoner.\n",
        "def try_reason(label:str=\"\"):\n",
        "    try:\n",
        "        # infer the propertiese as well, not the classes only\n",
        "        sync_reasoner_pellet(infer_property_values=True, debug=0)\n",
        "        if label:\n",
        "            print(f\"[Reasoner] Pellet inference ran ({label}).\")\n",
        "        else:\n",
        "            print(\"[Reasoner] Pellet inference ran.\")\n",
        "        return True\n",
        "    except Exception as e:\n",
        "        print(f\"[Reasoner] Skipped (Pellet/Java not available): {e}\")\n",
        "        return False\n",
        "# returns true if the pizza_ind param captured is a vegetarian individual\n",
        "def is_vegetarian(pizza_ind) -> bool:\n",
        "    try:\n",
        "        return onto.VegetarianPizza in pizza_ind.is_a\n",
        "        #in case if reasoner failed, check for pizzas manually which is not with a meat topping\n",
        "    except Exception:\n",
        "        return all(not isinstance(t, onto.MeatTopping) for t in pizza_ind.hasTopping)"
      ]
    },
    {
      "cell_type": "markdown",
      "id": "568bdb1b",
      "metadata": {
        "id": "568bdb1b"
      },
      "source": [
        "## Section 7 — Message Bus\n",
        "\n",
        "Explanation for section 7 — message bus."
      ]
    },
    {
      "cell_type": "code",
      "execution_count": 16,
      "id": "5dc0845a",
      "metadata": {
        "colab": {
          "base_uri": "https://localhost:8080/",
          "height": 332
        },
        "id": "5dc0845a",
        "outputId": "00ff60b0-74c1-468c-ee69-d3b93ae4843e"
      },
      "outputs": [
        {
          "output_type": "error",
          "ename": "NameError",
          "evalue": "name 'Optional' is not defined",
          "traceback": [
            "\u001b[0;31m---------------------------------------------------------------------------\u001b[0m",
            "\u001b[0;31mNameError\u001b[0m                                 Traceback (most recent call last)",
            "\u001b[0;32m/tmp/ipython-input-2502104764.py\u001b[0m in \u001b[0;36m<cell line: 0>\u001b[0;34m()\u001b[0m\n\u001b[1;32m      1\u001b[0m \u001b[0;31m#Python-side message bus\u001b[0m\u001b[0;34m\u001b[0m\u001b[0;34m\u001b[0m\u001b[0m\n\u001b[1;32m      2\u001b[0m \u001b[0;31m# responsible for initializing the msg object\u001b[0m\u001b[0;34m\u001b[0m\u001b[0;34m\u001b[0m\u001b[0m\n\u001b[0;32m----> 3\u001b[0;31m \u001b[0;32mclass\u001b[0m \u001b[0mBusMessage\u001b[0m\u001b[0;34m:\u001b[0m\u001b[0;34m\u001b[0m\u001b[0;34m\u001b[0m\u001b[0m\n\u001b[0m\u001b[1;32m      4\u001b[0m     \u001b[0;32mdef\u001b[0m \u001b[0m__init__\u001b[0m\u001b[0;34m(\u001b[0m\u001b[0mself\u001b[0m\u001b[0;34m,\u001b[0m \u001b[0mowl_ind\u001b[0m\u001b[0;34m,\u001b[0m \u001b[0mmtype\u001b[0m\u001b[0;34m:\u001b[0m \u001b[0mstr\u001b[0m\u001b[0;34m,\u001b[0m \u001b[0msender_id\u001b[0m\u001b[0;34m:\u001b[0m \u001b[0mstr\u001b[0m\u001b[0;34m,\u001b[0m \u001b[0mreceiver_id\u001b[0m\u001b[0;34m:\u001b[0m \u001b[0mOptional\u001b[0m\u001b[0;34m[\u001b[0m\u001b[0mstr\u001b[0m\u001b[0;34m]\u001b[0m\u001b[0;34m,\u001b[0m \u001b[0mpizza_ind\u001b[0m\u001b[0;34m,\u001b[0m \u001b[0mqty\u001b[0m\u001b[0;34m:\u001b[0m \u001b[0mint\u001b[0m\u001b[0;34m)\u001b[0m\u001b[0;34m:\u001b[0m\u001b[0;34m\u001b[0m\u001b[0;34m\u001b[0m\u001b[0m\n\u001b[1;32m      5\u001b[0m         \u001b[0mself\u001b[0m\u001b[0;34m.\u001b[0m\u001b[0mowl_ind\u001b[0m \u001b[0;34m=\u001b[0m \u001b[0mowl_ind\u001b[0m\u001b[0;34m\u001b[0m\u001b[0;34m\u001b[0m\u001b[0m\n",
            "\u001b[0;32m/tmp/ipython-input-2502104764.py\u001b[0m in \u001b[0;36mBusMessage\u001b[0;34m()\u001b[0m\n\u001b[1;32m      2\u001b[0m \u001b[0;31m# responsible for initializing the msg object\u001b[0m\u001b[0;34m\u001b[0m\u001b[0;34m\u001b[0m\u001b[0m\n\u001b[1;32m      3\u001b[0m \u001b[0;32mclass\u001b[0m \u001b[0mBusMessage\u001b[0m\u001b[0;34m:\u001b[0m\u001b[0;34m\u001b[0m\u001b[0;34m\u001b[0m\u001b[0m\n\u001b[0;32m----> 4\u001b[0;31m     \u001b[0;32mdef\u001b[0m \u001b[0m__init__\u001b[0m\u001b[0;34m(\u001b[0m\u001b[0mself\u001b[0m\u001b[0;34m,\u001b[0m \u001b[0mowl_ind\u001b[0m\u001b[0;34m,\u001b[0m \u001b[0mmtype\u001b[0m\u001b[0;34m:\u001b[0m \u001b[0mstr\u001b[0m\u001b[0;34m,\u001b[0m \u001b[0msender_id\u001b[0m\u001b[0;34m:\u001b[0m \u001b[0mstr\u001b[0m\u001b[0;34m,\u001b[0m \u001b[0mreceiver_id\u001b[0m\u001b[0;34m:\u001b[0m \u001b[0mOptional\u001b[0m\u001b[0;34m[\u001b[0m\u001b[0mstr\u001b[0m\u001b[0;34m]\u001b[0m\u001b[0;34m,\u001b[0m \u001b[0mpizza_ind\u001b[0m\u001b[0;34m,\u001b[0m \u001b[0mqty\u001b[0m\u001b[0;34m:\u001b[0m \u001b[0mint\u001b[0m\u001b[0;34m)\u001b[0m\u001b[0;34m:\u001b[0m\u001b[0;34m\u001b[0m\u001b[0;34m\u001b[0m\u001b[0m\n\u001b[0m\u001b[1;32m      5\u001b[0m         \u001b[0mself\u001b[0m\u001b[0;34m.\u001b[0m\u001b[0mowl_ind\u001b[0m \u001b[0;34m=\u001b[0m \u001b[0mowl_ind\u001b[0m\u001b[0;34m\u001b[0m\u001b[0;34m\u001b[0m\u001b[0m\n\u001b[1;32m      6\u001b[0m         \u001b[0mself\u001b[0m\u001b[0;34m.\u001b[0m\u001b[0mtype\u001b[0m \u001b[0;34m=\u001b[0m \u001b[0mmtype\u001b[0m\u001b[0;34m\u001b[0m\u001b[0;34m\u001b[0m\u001b[0m\n",
            "\u001b[0;31mNameError\u001b[0m: name 'Optional' is not defined"
          ]
        }
      ],
      "source": [
        "#Python-side message bus\n",
        "# responsible for initializing the msg object\n",
        "class BusMessage:\n",
        "    def __init__(self, owl_ind, mtype: str, sender_id: str, receiver_id: Optional[str], pizza_ind, qty: int):\n",
        "        self.owl_ind = owl_ind\n",
        "        self.type = mtype\n",
        "        self.sender_id = sender_id\n",
        "        self.receiver_id = receiver_id\n",
        "        self.pizza = pizza_ind\n",
        "        self.qty = qty\n",
        "        self.processed = False\n",
        "# showcase the initialized msg object contents\n",
        "    def __repr__(self):\n",
        "        return f\"<Msg {self.type} {self.pizza.name} x{self.qty} {self.sender_id}->{self.receiver_id}>\""
      ]
    },
    {
      "cell_type": "markdown",
      "id": "dde2d678",
      "metadata": {
        "id": "dde2d678"
      },
      "source": [
        "## Section 8 — MAS Model & Agents\n",
        "\n",
        "Explanation for section 8 — mas model & agents."
      ]
    },
    {
      "cell_type": "code",
      "execution_count": null,
      "id": "0431c1e2",
      "metadata": {
        "id": "0431c1e2"
      },
      "outputs": [],
      "source": [
        "#MAS model & agents\n",
        "class PizzaMAS(Model):\n",
        "    def __init__(self):\n",
        "        super().__init__()\n",
        "        # setting up the propertiese\n",
        "        self.messages: List[BusMessage] = []\n",
        "        self.baked = 0\n",
        "        self.delivered = 0\n",
        "        self.reasoner_available = False\n",
        "        # initializing the individuals\n",
        "        self.cust = cust1_ind\n",
        "        self.chefVeg = chefVeg_ind\n",
        "        self.chefAll = chefAll_ind\n",
        "        self.courier = courier1_ind\n",
        "        self.dispatcher = dispatcher_ind\n",
        "        # mapping names for the individuals\n",
        "        self.agent_customer = CustomerAgent(\"cust1\", self, self.cust)\n",
        "        self.agent_dispatcher = DispatcherAgent(\"dispatcher1\", self, self.dispatcher)\n",
        "        self.agent_chefVeg = ChefAgent(\"chefVeg\", self, self.chefVeg)\n",
        "        self.agent_chefAll = ChefAgent(\"chefAll\", self, self.chefAll)\n",
        "        self.agent_courier = CourierAgent(\"courier1\", self, self.courier)\n",
        "\n",
        "        self._customer_has_ordered = False\n",
        "        self.reasoner_available = try_reason(\"initial\")\n",
        "\n",
        "        print(\"\\\\n[Ontology] Vegetarian classification:\")\n",
        "        # 18 is formatting the spaces when printing to get a neat o/p.\n",
        "        for p in onto.Pizza.instances():\n",
        "            print(f\" - {p.name:18} vegetarian={is_vegetarian(p)}\")\n",
        "    # compilation of tasks msgs as required\n",
        "    def send_order(self, sender_name:str, pizza_ind, qty:int=1):\n",
        "        with onto:\n",
        "            owl_msg = onto.OrderRequest(f\"order_{sender_name}_{random.randrange(1_000_000)}\")\n",
        "            owl_msg.sender = [getattr(onto, sender_name)]\n",
        "            owl_msg.aboutPizza = [pizza_ind]\n",
        "            owl_msg.quantity = [qty]\n",
        "        msg = BusMessage(owl_msg, \"order\", sender_name, None, pizza_ind, qty)\n",
        "        self.messages.append(msg)\n",
        "        print(f\"[MSG] {msg}\")\n",
        "\n",
        "    def send_bake(self, sender_name:str, receiver_name:str, pizza_ind, qty:int):\n",
        "        with onto:\n",
        "            owl_msg = onto.BakeOrder(f\"bake_{sender_name}_{random.randrange(1_000_000)}\")\n",
        "            owl_msg.sender = [getattr(onto, sender_name)]\n",
        "            owl_msg.receiver = [getattr(onto, receiver_name)]\n",
        "            owl_msg.aboutPizza = [pizza_ind]\n",
        "            owl_msg.quantity = [qty]\n",
        "        msg = BusMessage(owl_msg, \"bake\", sender_name, receiver_name, pizza_ind, qty)\n",
        "        self.messages.append(msg)\n",
        "        print(f\"[MSG] {msg}\")\n",
        "\n",
        "    def send_delivery(self, sender_name:str, receiver_name:str, pizza_ind, qty:int):\n",
        "        with onto:\n",
        "            owl_msg = onto.DeliveryOrder(f\"deliv_{sender_name}_{random.randrange(1_000_000)}\")\n",
        "            owl_msg.sender = [getattr(onto, sender_name)]\n",
        "            owl_msg.receiver = [getattr(onto, receiver_name)]\n",
        "            owl_msg.aboutPizza = [pizza_ind]\n",
        "            owl_msg.quantity = [qty]\n",
        "        msg = BusMessage(owl_msg, \"deliver\", sender_name, receiver_name, pizza_ind, qty)\n",
        "        self.messages.append(msg)\n",
        "        print(f\"[MSG] {msg}\")\n",
        "    # define the order of the actions to be executed\n",
        "    def step(self):\n",
        "        self.agent_customer.step()\n",
        "        self.reasoner_available = try_reason(\"per-step\")\n",
        "        self.agent_dispatcher.step()\n",
        "        self.agent_chefVeg.step()\n",
        "        self.agent_chefAll.step()\n",
        "        self.agent_courier.step()\n",
        "# create agent objects\n",
        "class OntologyBackedAgent(Agent):\n",
        "    def __init__(self, unique_id: str, model: PizzaMAS, owl_ind):\n",
        "        super().__init__(unique_id, model)\n",
        "        self.owl_ind = owl_ind\n",
        "\n",
        "class CustomerAgent(OntologyBackedAgent):\n",
        "    def step(self):\n",
        "        if self.model._customer_has_ordered:\n",
        "            return\n",
        "        pizzas = list(onto.Pizza.instances())\n",
        "        veg = [p for p in pizzas if is_vegetarian(p)]\n",
        "        pizza = random.choice(veg if veg else pizzas)\n",
        "        qty = random.choice([1, 2])\n",
        "        print(f\"[Customer] Ordering {pizza.name} x{qty}\")\n",
        "        self.model.send_order(self.unique_id, pizza, qty)\n",
        "        self.model._customer_has_ordered = True\n",
        "\n",
        "class DispatcherAgent(OntologyBackedAgent):\n",
        "    def step(self):\n",
        "        for msg in self.model.messages:\n",
        "            if msg.type != \"order\" or msg.processed:\n",
        "                continue\n",
        "            owlr = getattr(msg.owl_ind, \"receiver\", [])\n",
        "            if owlr:\n",
        "                recv_name = owlr[0].name\n",
        "                print(f\"[DISPATCH] SWRL routed {msg.pizza.name} -> {recv_name}\")\n",
        "                self.model.send_bake(self.unique_id, recv_name, msg.pizza, msg.qty)\n",
        "                msg.processed = True\n",
        "                continue\n",
        "            recv_name = \"chefVeg\" if is_vegetarian(msg.pizza) else \"chefAll\"\n",
        "            print(f\"[DISPATCH] Fallback route {msg.pizza.name} -> {recv_name}\")\n",
        "            self.model.send_bake(self.unique_id, recv_name, msg.pizza, msg.qty)\n",
        "            msg.processed = True\n",
        "\n",
        "class ChefAgent(OntologyBackedAgent):\n",
        "    def step(self):\n",
        "        for msg in self.model.messages:\n",
        "            if msg.type != \"bake\" or msg.processed:\n",
        "                continue\n",
        "            if msg.receiver_id != self.unique_id:\n",
        "                continue\n",
        "            veg_only_vals = getattr(self.owl_ind, \"vegetarianOnly\", [])\n",
        "            veg_only = bool(veg_only_vals and veg_only_vals[0])\n",
        "            if veg_only and not is_vegetarian(msg.pizza):\n",
        "                print(f\"[CHEF {self.unique_id}] Rejects non-veg: {msg.pizza.name}\")\n",
        "                msg.processed = True\n",
        "                continue\n",
        "            print(f\"[CHEF {self.unique_id}] Baking {msg.pizza.name} x{msg.qty}\")\n",
        "            self.model.baked += msg.qty\n",
        "            self.model.send_delivery(self.unique_id, \"courier1\", msg.pizza, msg.qty)\n",
        "            msg.processed = True\n",
        "\n",
        "class CourierAgent(OntologyBackedAgent):\n",
        "    def step(self):\n",
        "        for msg in self.model.messages:\n",
        "            if msg.type != \"deliver\" or msg.processed:\n",
        "                continue\n",
        "            if msg.receiver_id != self.unique_id:\n",
        "                continue\n",
        "            print(f\"[COURIER] Delivered {msg.pizza.name} x{msg.qty}\")\n",
        "            self.model.delivered += msg.qty\n",
        "            msg.processed = True"
      ]
    },
    {
      "cell_type": "markdown",
      "id": "f4d7b0ed",
      "metadata": {
        "id": "f4d7b0ed"
      },
      "source": [
        "## Section 9 — Run Simulation\n",
        "\n",
        "Explanation for section 9 — run simulation."
      ]
    },
    {
      "cell_type": "code",
      "execution_count": null,
      "id": "e944a465",
      "metadata": {
        "id": "e944a465",
        "outputId": "4a611350-33b8-4624-8a9d-38365a8dea13"
      },
      "outputs": [
        {
          "name": "stdout",
          "output_type": "stream",
          "text": [
            "[Reasoner] Pellet inference ran (initial).\n",
            "\\n[Ontology] Vegetarian classification:\n",
            " - MargheritaPizza    vegetarian=False\n",
            " - PepperoniPizza     vegetarian=False\n",
            " - BBQChickenPizza    vegetarian=False\n",
            "\\n=== Simulation Start ===\n",
            "\\n--- Step 0 ---\n",
            "[Customer] Ordering MargheritaPizza x2\n",
            "[MSG] <Msg order MargheritaPizza x2 cust1->None>\n",
            "[Reasoner] Pellet inference ran (per-step).\n",
            "[DISPATCH] Fallback route MargheritaPizza -> chefAll\n",
            "[MSG] <Msg bake MargheritaPizza x2 dispatcher1->chefAll>\n",
            "[CHEF chefAll] Baking MargheritaPizza x2\n",
            "[MSG] <Msg deliver MargheritaPizza x2 chefAll->courier1>\n",
            "[COURIER] Delivered MargheritaPizza x2\n",
            "\\n--- Step 1 ---\n",
            "[Reasoner] Pellet inference ran (per-step).\n",
            "\\n--- Step 2 ---\n",
            "[Reasoner] Pellet inference ran (per-step).\n",
            "\\n--- Step 3 ---\n",
            "[Reasoner] Pellet inference ran (per-step).\n",
            "\\n--- Step 4 ---\n",
            "[Reasoner] Pellet inference ran (per-step).\n",
            "\\n=== Summary ===\n",
            "Baked: 2, Delivered: 2\n",
            "\\n[OWL Messages created]\n",
            " - order_cust1_473780: OrderRequest PepperoniPizza x2 cust1->?\n",
            " - bake_dispatcher1_532510: BakeOrder PepperoniPizza x2 dispatcher1->chefAll\n",
            " - deliv_chefAll_896580: DeliveryOrder PepperoniPizza x2 chefAll->courier1\n",
            " - order_cust1_660479: OrderRequest MargheritaPizza x2 cust1->?\n",
            " - bake_dispatcher1_643782: BakeOrder MargheritaPizza x2 dispatcher1->chefAll\n",
            " - deliv_chefAll_831496: DeliveryOrder MargheritaPizza x2 chefAll->courier1\n"
          ]
        }
      ],
      "source": [
        "#Run\n",
        "def main():\n",
        "    model = PizzaMAS()\n",
        "    print(\"\\\\n=== Simulation Start ===\")\n",
        "    for t in range(5):\n",
        "        print(f\"\\\\n--- Step {t} ---\")\n",
        "        model.step()\n",
        "    print(\"\\\\n=== Summary ===\")\n",
        "    print(f\"Baked: {model.baked}, Delivered: {model.delivered}\")\n",
        "    print(\"\\\\n[OWL Messages created]\")\n",
        "    for m in onto.Message.instances():\n",
        "        mtype = m.is_a[0].name if m.is_a else \"Message\"\n",
        "        s = m.sender[0].name if getattr(m, \"sender\", []) else \"?\"\n",
        "        r = m.receiver[0].name if getattr(m, \"receiver\", []) else \"?\"\n",
        "        p = m.aboutPizza[0].name if getattr(m, \"aboutPizza\", []) else \"?\"\n",
        "        q = m.quantity[0] if getattr(m, \"quantity\", []) else \"?\"\n",
        "        print(f\" - {m.name}: {mtype} {p} x{q} {s}->{r}\")\n",
        "\n",
        "if __name__ == \"__main__\":\n",
        "    main()"
      ]
    },
    {
      "cell_type": "code",
      "execution_count": null,
      "id": "6488eb13-07cd-4173-b815-edc298cb5f15",
      "metadata": {
        "id": "6488eb13-07cd-4173-b815-edc298cb5f15"
      },
      "outputs": [],
      "source": []
    }
  ],
  "metadata": {
    "kernelspec": {
      "display_name": "Python 3 (ipykernel)",
      "language": "python",
      "name": "python3"
    },
    "language_info": {
      "codemirror_mode": {
        "name": "ipython",
        "version": 3
      },
      "file_extension": ".py",
      "mimetype": "text/x-python",
      "name": "python",
      "nbconvert_exporter": "python",
      "pygments_lexer": "ipython3",
      "version": "3.12.4"
    },
    "colab": {
      "provenance": [],
      "include_colab_link": true
    }
  },
  "nbformat": 4,
  "nbformat_minor": 5
}