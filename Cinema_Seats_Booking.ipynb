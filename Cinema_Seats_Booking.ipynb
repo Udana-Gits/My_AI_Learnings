{
  "cells": [
    {
      "cell_type": "markdown",
      "metadata": {
        "id": "view-in-github",
        "colab_type": "text"
      },
      "source": [
        "<a href=\"https://colab.research.google.com/github/Udana-Gits/My_AI_Learnings/blob/main/Cinema_Seats_Booking.ipynb\" target=\"_parent\"><img src=\"https://colab.research.google.com/assets/colab-badge.svg\" alt=\"Open In Colab\"/></a>"
      ]
    },
    {
      "cell_type": "code",
      "execution_count": 1,
      "id": "e9aed8da-b935-4c15-afa1-941772410fdf",
      "metadata": {
        "id": "e9aed8da-b935-4c15-afa1-941772410fdf",
        "outputId": "45187bd1-011e-4d55-d3b3-b2dbce1890d2",
        "colab": {
          "base_uri": "https://localhost:8080/"
        }
      },
      "outputs": [
        {
          "output_type": "stream",
          "name": "stdout",
          "text": [
            "Collecting mesa\n",
            "  Downloading mesa-3.3.0-py3-none-any.whl.metadata (11 kB)\n",
            "Requirement already satisfied: numpy in /usr/local/lib/python3.12/dist-packages (from mesa) (2.0.2)\n",
            "Requirement already satisfied: pandas in /usr/local/lib/python3.12/dist-packages (from mesa) (2.2.2)\n",
            "Requirement already satisfied: scipy in /usr/local/lib/python3.12/dist-packages (from mesa) (1.16.2)\n",
            "Requirement already satisfied: tqdm in /usr/local/lib/python3.12/dist-packages (from mesa) (4.67.1)\n",
            "Requirement already satisfied: python-dateutil>=2.8.2 in /usr/local/lib/python3.12/dist-packages (from pandas->mesa) (2.9.0.post0)\n",
            "Requirement already satisfied: pytz>=2020.1 in /usr/local/lib/python3.12/dist-packages (from pandas->mesa) (2025.2)\n",
            "Requirement already satisfied: tzdata>=2022.7 in /usr/local/lib/python3.12/dist-packages (from pandas->mesa) (2025.2)\n",
            "Requirement already satisfied: six>=1.5 in /usr/local/lib/python3.12/dist-packages (from python-dateutil>=2.8.2->pandas->mesa) (1.17.0)\n",
            "Downloading mesa-3.3.0-py3-none-any.whl (239 kB)\n",
            "\u001b[2K   \u001b[90m━━━━━━━━━━━━━━━━━━━━━━━━━━━━━━━━━━━━━━━━\u001b[0m \u001b[32m239.6/239.6 kB\u001b[0m \u001b[31m4.1 MB/s\u001b[0m eta \u001b[36m0:00:00\u001b[0m\n",
            "\u001b[?25hInstalling collected packages: mesa\n",
            "Successfully installed mesa-3.3.0\n"
          ]
        }
      ],
      "source": [
        "pip install mesa"
      ]
    },
    {
      "cell_type": "code",
      "execution_count": 2,
      "id": "c33aec51-2079-44ba-8a01-0c25b6ec81b2",
      "metadata": {
        "id": "c33aec51-2079-44ba-8a01-0c25b6ec81b2",
        "outputId": "151d7e77-e758-403b-9ab6-daba0ff9e11c",
        "colab": {
          "base_uri": "https://localhost:8080/",
          "height": 384
        }
      },
      "outputs": [
        {
          "output_type": "error",
          "ename": "ModuleNotFoundError",
          "evalue": "No module named 'mesa.time'",
          "traceback": [
            "\u001b[0;31m---------------------------------------------------------------------------\u001b[0m",
            "\u001b[0;31mModuleNotFoundError\u001b[0m                       Traceback (most recent call last)",
            "\u001b[0;32m/tmp/ipython-input-1329095960.py\u001b[0m in \u001b[0;36m<cell line: 0>\u001b[0;34m()\u001b[0m\n\u001b[1;32m      1\u001b[0m \u001b[0;32mfrom\u001b[0m \u001b[0mmesa\u001b[0m \u001b[0;32mimport\u001b[0m \u001b[0mAgent\u001b[0m\u001b[0;34m,\u001b[0m \u001b[0mModel\u001b[0m\u001b[0;34m\u001b[0m\u001b[0;34m\u001b[0m\u001b[0m\n\u001b[0;32m----> 2\u001b[0;31m \u001b[0;32mfrom\u001b[0m \u001b[0mmesa\u001b[0m\u001b[0;34m.\u001b[0m\u001b[0mtime\u001b[0m \u001b[0;32mimport\u001b[0m \u001b[0mRandomActivation\u001b[0m\u001b[0;34m\u001b[0m\u001b[0;34m\u001b[0m\u001b[0m\n\u001b[0m\u001b[1;32m      3\u001b[0m \u001b[0;32mfrom\u001b[0m \u001b[0mmesa\u001b[0m\u001b[0;34m.\u001b[0m\u001b[0mspace\u001b[0m \u001b[0;32mimport\u001b[0m \u001b[0mMultiGrid\u001b[0m\u001b[0;34m\u001b[0m\u001b[0;34m\u001b[0m\u001b[0m\n\u001b[1;32m      4\u001b[0m \u001b[0;32mfrom\u001b[0m \u001b[0mmesa\u001b[0m\u001b[0;34m.\u001b[0m\u001b[0mdatacollection\u001b[0m \u001b[0;32mimport\u001b[0m \u001b[0mDataCollector\u001b[0m\u001b[0;34m\u001b[0m\u001b[0;34m\u001b[0m\u001b[0m\n\u001b[1;32m      5\u001b[0m \u001b[0;32mimport\u001b[0m \u001b[0mnumpy\u001b[0m \u001b[0;32mas\u001b[0m \u001b[0mnp\u001b[0m\u001b[0;34m\u001b[0m\u001b[0;34m\u001b[0m\u001b[0m\n",
            "\u001b[0;31mModuleNotFoundError\u001b[0m: No module named 'mesa.time'",
            "",
            "\u001b[0;31m---------------------------------------------------------------------------\u001b[0;32m\nNOTE: If your import is failing due to a missing package, you can\nmanually install dependencies using either !pip or !apt.\n\nTo view examples of installing some common dependencies, click the\n\"Open Examples\" button below.\n\u001b[0;31m---------------------------------------------------------------------------\u001b[0m\n"
          ],
          "errorDetails": {
            "actions": [
              {
                "action": "open_url",
                "actionText": "Open Examples",
                "url": "/notebooks/snippets/importing_libraries.ipynb"
              }
            ]
          }
        }
      ],
      "source": [
        "from mesa import Agent, Model\n",
        "from mesa.time import RandomActivation\n",
        "from mesa.space import MultiGrid\n",
        "from mesa.datacollection import DataCollector\n",
        "import numpy as np"
      ]
    },
    {
      "cell_type": "code",
      "execution_count": null,
      "id": "0c0752c9-3d74-4061-86ff-e2f297947a66",
      "metadata": {
        "id": "0c0752c9-3d74-4061-86ff-e2f297947a66"
      },
      "outputs": [],
      "source": [
        "class CinemaModel(Model):\n",
        "    def __init__(self, N, width, height):\n",
        "        self.num_agents = N\n",
        "        self.grid = MultiGrid(width, height, True)\n",
        "        self.schedule = RandomActivation(self)\n",
        "\n",
        "        # Create agents\n",
        "        for i in range(self.num_agents):\n",
        "            a = CustomerAgent(i, self)\n",
        "            x = self.random.randrange(self.grid.width)\n",
        "            y = self.random.randrange(self.grid.height)\n",
        "            self.grid.place_agent(a, (x, y))\n",
        "            self.schedule.add(a)\n",
        "\n",
        "        # Data collector\n",
        "        self.datacollector = DataCollector(\n",
        "            agent_reporters={\"Booking\": \"booking\"}\n",
        "        )\n",
        "\n",
        "    def step(self):\n",
        "        self.datacollector.collect(self)\n",
        "        self.schedule.step()"
      ]
    },
    {
      "cell_type": "code",
      "execution_count": null,
      "id": "9c8148a1-f150-48e3-a6ca-afab7dcb88cf",
      "metadata": {
        "id": "9c8148a1-f150-48e3-a6ca-afab7dcb88cf"
      },
      "outputs": [],
      "source": [
        "class CustomerAgent(Agent):\n",
        "    \"\"\" An agent with random booking behavior. \"\"\"\n",
        "    def __init__(self, unique_id, model):\n",
        "        super().__init__(unique_id, model)\n",
        "        self.booking = 0\n",
        "\n",
        "    def step(self):\n",
        "        x = self.random.randrange(self.model.grid.width)\n",
        "        y = self.random.randrange(self.model.grid.height)\n",
        "\n",
        "        # Try to book a seat\n",
        "        cell_content = self.model.grid.get_cell_list_contents([(x, y)])\n",
        "        if len(cell_content) == 0:\n",
        "            self.booking = 1\n",
        "            print(f\"Customer {self.unique_id} successfully booked seat ({x}, {y})\")\n",
        "        else:\n",
        "            self.booking = 0\n",
        "            print(f\"Customer {self.unique_id} failed to book seat ({x}, {y})\")"
      ]
    },
    {
      "cell_type": "code",
      "execution_count": null,
      "id": "4070a692-157c-44c8-adcb-7e220643d368",
      "metadata": {
        "id": "4070a692-157c-44c8-adcb-7e220643d368"
      },
      "outputs": [],
      "source": [
        "width = 10\n",
        "height = 10\n",
        "num_agents = 15"
      ]
    },
    {
      "cell_type": "code",
      "execution_count": null,
      "id": "79ef4a9f-de6b-4597-82e1-d1e8ab771fc8",
      "metadata": {
        "id": "79ef4a9f-de6b-4597-82e1-d1e8ab771fc8"
      },
      "outputs": [],
      "source": [
        "model = CinemaModel(num_agents, width, height)"
      ]
    },
    {
      "cell_type": "code",
      "execution_count": null,
      "id": "b62b6fc3-b8fb-4602-83b4-22b19527448c",
      "metadata": {
        "id": "b62b6fc3-b8fb-4602-83b4-22b19527448c"
      },
      "outputs": [],
      "source": [
        "for i in range(1):\n",
        "    model.step()"
      ]
    },
    {
      "cell_type": "code",
      "execution_count": null,
      "id": "a989a6c1-0ae2-41fe-9fc0-dac86f510470",
      "metadata": {
        "id": "a989a6c1-0ae2-41fe-9fc0-dac86f510470"
      },
      "outputs": [],
      "source": [
        "# Print final booking results\n",
        "for agent in model.schedule.agents:\n",
        "    print(f\"Customer {agent.unique_id} booking status: {agent.booking}\")"
      ]
    },
    {
      "cell_type": "code",
      "execution_count": null,
      "id": "42bd53c6-8245-43b1-b469-803893e4327b",
      "metadata": {
        "id": "42bd53c6-8245-43b1-b469-803893e4327b"
      },
      "outputs": [],
      "source": [
        "for x in range(model.grid.width):\n",
        "    for y in range(model.grid.height):\n",
        "        cell_content = model.grid.get_cell_list_contents([(x, y)])\n",
        "        print(f\"Cell ({x}, {y}) has {len(cell_content)} agents\")\n"
      ]
    },
    {
      "cell_type": "code",
      "execution_count": null,
      "id": "198edf12-9007-4901-b75b-4867771e35e8",
      "metadata": {
        "id": "198edf12-9007-4901-b75b-4867771e35e8"
      },
      "outputs": [],
      "source": []
    },
    {
      "cell_type": "code",
      "execution_count": null,
      "id": "2a9b4a63-96ab-48cd-aa67-1702b3076a54",
      "metadata": {
        "id": "2a9b4a63-96ab-48cd-aa67-1702b3076a54"
      },
      "outputs": [],
      "source": []
    }
  ],
  "metadata": {
    "kernelspec": {
      "display_name": "Python 3 (ipykernel)",
      "language": "python",
      "name": "python3"
    },
    "language_info": {
      "codemirror_mode": {
        "name": "ipython",
        "version": 3
      },
      "file_extension": ".py",
      "mimetype": "text/x-python",
      "name": "python",
      "nbconvert_exporter": "python",
      "pygments_lexer": "ipython3",
      "version": "3.11.7"
    },
    "colab": {
      "provenance": [],
      "include_colab_link": true
    }
  },
  "nbformat": 4,
  "nbformat_minor": 5
}